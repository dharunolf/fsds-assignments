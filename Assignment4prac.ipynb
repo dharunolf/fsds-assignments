{
 "cells": [
  {
   "cell_type": "markdown",
   "id": "eaa87e14",
   "metadata": {},
   "source": [
    "\n",
    "<b><h1>Assignment 4 Solutions</b></h1>"
   ]
  },
  {
   "cell_type": "markdown",
   "id": "1188d714",
   "metadata": {},
   "source": [
    "1.Write a Python Program to find the factorial of a number ?"
   ]
  },
  {
   "cell_type": "code",
   "execution_count": 3,
   "id": "153d39b0",
   "metadata": {},
   "outputs": [
    {
     "name": "stdout",
     "output_type": "stream",
     "text": [
      "Enter a number: 15\n",
      "The Factorial of 15 is 1307674368000\n"
     ]
    }
   ],
   "source": [
    "def fact(a):\n",
    "    if (a ==1 or a==0):\n",
    "        return 1\n",
    "    else:\n",
    "        return a*fact(a-1)\n",
    "a = int(input('Enter a number: '))\n",
    "value = fact(a)\n",
    "print(f'The Factorial of {a} is {value}')"
   ]
  },
  {
   "cell_type": "markdown",
   "id": "85dd15c4",
   "metadata": {},
   "source": [
    "2.Write a Python Program to display the multiplication table ?"
   ]
  },
  {
   "cell_type": "code",
   "execution_count": 4,
   "id": "df5f1282",
   "metadata": {},
   "outputs": [
    {
     "name": "stdout",
     "output_type": "stream",
     "text": [
      "Enter a number: 10\n",
      "Enter no of entries: 6\n",
      "10 * 1 = 10\n",
      "10 * 2 = 20\n",
      "10 * 3 = 30\n",
      "10 * 4 = 40\n",
      "10 * 5 = 50\n",
      "10 * 6 = 60\n"
     ]
    }
   ],
   "source": [
    "def generate(base,entries):\n",
    "    for x in range(1,entries+1):\n",
    "        print(f'{base} * {x} = {base*x}')\n",
    "\n",
    "num = int(input('Enter a number: '))\n",
    "values = int(input('Enter no of entries: '))\n",
    "generate(num,values)"
   ]
  },
  {
   "cell_type": "markdown",
   "id": "6d724456",
   "metadata": {},
   "source": [
    "3.Write a Python Program to print the fibonacci sequence ?\n"
   ]
  },
  {
   "cell_type": "code",
   "execution_count": 8,
   "id": "11fa14f3",
   "metadata": {},
   "outputs": [
    {
     "name": "stdout",
     "output_type": "stream",
     "text": [
      "enter the number of fibanocci series10\n",
      "1\n",
      "1\n",
      "2\n",
      "3\n",
      "5\n",
      "8\n",
      "13\n",
      "21\n",
      "34\n",
      "55\n"
     ]
    }
   ],
   "source": [
    "\n",
    "\n",
    "n=int(input(\"enter the number of fibanocci series\"))\n",
    "def fibanocci(n):\n",
    "    a=1\n",
    "    b=1\n",
    "    if n==1:\n",
    "        print(f'{a}\\n{b}')\n",
    "    elif n<=1:\n",
    "        print(\"enter only positive numbers\")\n",
    "    else:\n",
    "        print(f'{a}\\n{b}')\n",
    "        for i in range(n-2):\n",
    "            c=a+b\n",
    "            a=b\n",
    "            b=c\n",
    "            print(b)\n",
    "\n",
    "fibanocci(n)"
   ]
  },
  {
   "cell_type": "markdown",
   "id": "6925638e",
   "metadata": {},
   "source": [
    "4.Write a Python Program to check Armstrong number ?"
   ]
  },
  {
   "cell_type": "code",
   "execution_count": 21,
   "id": "ce1a1d9b",
   "metadata": {},
   "outputs": [
    {
     "name": "stdout",
     "output_type": "stream",
     "text": [
      "enter a number127\n",
      "343.0 343 127\n",
      "8.0 351 12\n",
      "1.0 352 1\n",
      "352 127\n",
      "127 is not an armstrong number\n"
     ]
    }
   ],
   "source": [
    "import math\n",
    "def armstrong(n):\n",
    "    n1=n\n",
    "    sum=0\n",
    "    while n1>0:\n",
    "        r = n1%10\n",
    "        \n",
    "        r=math.pow(r,3)\n",
    "        \n",
    "        sum+=int(r)\n",
    "        print(r,sum,n1)\n",
    "        n1//=10\n",
    "    print(int(sum),n)\n",
    "    if int(sum)==n:\n",
    "        print(f'{n} is armstrong number')\n",
    "    else:\n",
    "        print(f'{n} is not an armstrong number')\n",
    "\n",
    "n=int(input(\"enter a number\"))\n",
    "armstrong(n)\n",
    "        "
   ]
  },
  {
   "cell_type": "markdown",
   "id": "2920f19b",
   "metadata": {},
   "source": [
    "5.Write a Python Program to Find Armstrong number in an interval ?"
   ]
  },
  {
   "cell_type": "code",
   "execution_count": 26,
   "id": "1dc67c53",
   "metadata": {},
   "outputs": [
    {
     "name": "stdout",
     "output_type": "stream",
     "text": [
      "enter the start number1\n",
      "enter the end number10000\n",
      "1\n",
      "153\n",
      "370\n",
      "371\n",
      "407\n"
     ]
    }
   ],
   "source": [
    "def armstronginterval(start,end):\n",
    "    armnos=[]\n",
    "    for i in range(start,end+1):\n",
    "        i1 = i\n",
    "        sum=0\n",
    "        while i1>0:\n",
    "            r = i1%10\n",
    "        \n",
    "            r=math.pow(r,3)\n",
    "        \n",
    "            sum+=int(r)\n",
    "            \n",
    "            i1//=10\n",
    "        if i==sum:\n",
    "            armnos.append(i)\n",
    "            \n",
    "    for i in armnos:\n",
    "        print(i)\n",
    "        \n",
    "start=int(input(\"enter the start number\"))\n",
    "end=int(input(\"enter the end number\"))\n",
    "armstronginterval(start,end)\n",
    "        \n",
    "    "
   ]
  },
  {
   "cell_type": "markdown",
   "id": "e74676a7",
   "metadata": {},
   "source": [
    "6.Write a Python Program to sum of natural numbers ?"
   ]
  },
  {
   "cell_type": "code",
   "execution_count": 28,
   "id": "56bd8422",
   "metadata": {},
   "outputs": [
    {
     "name": "stdout",
     "output_type": "stream",
     "text": [
      "Enter a number: 100\n",
      "Sum of 100 natural numbers is 5050\n"
     ]
    }
   ],
   "source": [
    "def sumOfNaturalNumbers(num):\n",
    "    sum = num*((num+1)/2)\n",
    "    print(f'Sum of {num} natural numbers is {int(sum)}')\n",
    "    \n",
    "num = int(input('Enter a number: '))\n",
    "sumOfNaturalNumbers(num)"
   ]
  }
 ],
 "metadata": {
  "kernelspec": {
   "display_name": "Python 3 (ipykernel)",
   "language": "python",
   "name": "python3"
  },
  "language_info": {
   "codemirror_mode": {
    "name": "ipython",
    "version": 3
   },
   "file_extension": ".py",
   "mimetype": "text/x-python",
   "name": "python",
   "nbconvert_exporter": "python",
   "pygments_lexer": "ipython3",
   "version": "3.9.13"
  }
 },
 "nbformat": 4,
 "nbformat_minor": 5
}
