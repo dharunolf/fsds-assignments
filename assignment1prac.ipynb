{
 "cells": [
  {
   "cell_type": "code",
   "execution_count": null,
   "metadata": {},
   "outputs": [],
   "source": []
  },
  {
   "cell_type": "markdown",
   "metadata": {},
   "source": [
    "<b><h1>Programming assignment 1</b></h1>"
   ]
  },
  {
   "cell_type": "markdown",
   "metadata": {},
   "source": [
    "1.Write a Python program to print 'Hello Python' ?"
   ]
  },
  {
   "cell_type": "code",
   "execution_count": null,
   "metadata": {},
   "outputs": [
    {
     "name": "stdout",
     "output_type": "stream",
     "text": [
      "hello world\n"
     ]
    }
   ],
   "source": [
    "print(\"hello world\")"
   ]
  },
  {
   "cell_type": "markdown",
   "metadata": {},
   "source": [
    "2.Write a Python program to do arithmetic operations addition and division ?"
   ]
  },
  {
   "cell_type": "markdown",
   "metadata": {},
   "source": [
    "\n",
    "print('Select an Arithmetic Operation:')\n",
    "        \n",
    "\n",
    "\n",
    "def oper(a,b,operator):\n",
    "    \n",
    "    if operator=='+':\n",
    "            return a+b\n",
    "    elif operator=='-':\n",
    "        return a-b\n",
    "    elif operator=='-':\n",
    "        return a*b\n",
    "    elif operator=='/':\n",
    "        return a/b\n",
    "    elif operator=='-':\n",
    "        return 0\n",
    "\n",
    "\n",
    "while True:\n",
    "    operator = input('Enter an arithmetic operator-> ')\n",
    "    if operator == '0':\n",
    "        print(\"Program Stopped successfully\")\n",
    "        break\n",
    "    elif operator not in ['+','-','*','/']:\n",
    "        print(\"Please enter a valid operator\")\n",
    "    else:\n",
    "        a = int(input('\\nEnter 1st Number: '))\n",
    "        b = int(input('Enter 2nd Number: '))\n",
    "        print(f'{a} {operator} {b} = {oper(a,b,operator)}')"
   ]
  },
  {
   "cell_type": "markdown",
   "metadata": {},
   "source": [
    "3.Write a Python program to find the area of a triangle ?"
   ]
  },
  {
   "cell_type": "code",
   "execution_count": 1,
   "metadata": {},
   "outputs": [
    {
     "name": "stdout",
     "output_type": "stream",
     "text": [
      "Enter height of the triangle: 25\n",
      "Enter base of the triangle: 6\n",
      "\n",
      "Area of triangle= 75.0\n"
     ]
    }
   ],
   "source": [
    "height = int(input('Enter height of the triangle: '))\n",
    "base = int(input('Enter base of the triangle: '))\n",
    "\n",
    "def area(height, base):\n",
    "    print('\\nArea of triangle=', 0.5*height*base)\n",
    "\n",
    "area(height,base)"
   ]
  },
  {
   "cell_type": "markdown",
   "metadata": {},
   "source": [
    "4.Write a Python program to swap two variables ?"
   ]
  },
  {
   "cell_type": "code",
   "execution_count": 7,
   "metadata": {},
   "outputs": [
    {
     "name": "stdout",
     "output_type": "stream",
     "text": [
      "Enter First Number: 3\n",
      "Enter Second Number: 36\n",
      "Before swapping ->  3 36\n",
      "After swapping ->  36 3\n"
     ]
    }
   ],
   "source": [
    "a = int(input(\"Enter First Number: \"))\n",
    "b = int(input(\"Enter Second Number: \"))\n",
    "\n",
    "def swap(a,b):\n",
    "    temp = a\n",
    "    a = b\n",
    "    b = temp\n",
    "    return a,b\n",
    "\n",
    "print('Before swapping -------> ',a, b)\n",
    "a, b = swap(a, b)\n",
    "print('After swapping -------> ',a,b)\n",
    "\n",
    "   "
   ]
  },
  {
   "cell_type": "markdown",
   "metadata": {},
   "source": [
    "a = int(input(\"Enter First Number: \"))\n",
    "b = int(input(\"Enter Second Number: \"))\n",
    "print('Before swapping -> ',a, b)\n",
    "a,b = b,a\n",
    "print('After swapping -> ',a,b)\n"
   ]
  },
  {
   "cell_type": "code",
   "execution_count": null,
   "metadata": {},
   "outputs": [],
   "source": [
    "5.Write a Python program to generate a random number ?"
   ]
  },
  {
   "cell_type": "code",
   "execution_count": 10,
   "metadata": {},
   "outputs": [
    {
     "name": "stdout",
     "output_type": "stream",
     "text": [
      "Random number =  72813\n",
      "Random number =  16\n"
     ]
    }
   ],
   "source": [
    "from random import randint\n",
    "\n",
    "def generateRandomNumber(start=0, end=100000):\n",
    "    print('Random number = ',randint(start,end))\n",
    "    \n",
    "generateRandomNumber()\n"
   ]
  }
 ],
 "metadata": {
  "kernelspec": {
   "display_name": "Python 3 (ipykernel)",
   "language": "python",
   "name": "python3"
  },
  "language_info": {
   "codemirror_mode": {
    "name": "ipython",
    "version": 3
   },
   "file_extension": ".py",
   "mimetype": "text/x-python",
   "name": "python",
   "nbconvert_exporter": "python",
   "pygments_lexer": "ipython3",
   "version": "3.9.13"
  },
  "vscode": {
   "interpreter": {
    "hash": "7acdd79aa2ff60d8ffcf72a42b0aaa3f5a5c9e72464c3a5d007ba8a985ae5be3"
   }
  }
 },
 "nbformat": 4,
 "nbformat_minor": 2
}
